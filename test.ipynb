{
 "cells": [
  {
   "cell_type": "code",
   "execution_count": 1,
   "metadata": {},
   "outputs": [],
   "source": [
    "from groq import Groq\n",
    "from dotenv import load_dotenv\n",
    "import os"
   ]
  },
  {
   "cell_type": "markdown",
   "metadata": {},
   "source": [
    "# Groq API"
   ]
  },
  {
   "cell_type": "code",
   "execution_count": 2,
   "metadata": {},
   "outputs": [],
   "source": [
    "load_dotenv()\n",
    "\n",
    "# Configure Groq API\n",
    "groq_api_key = os.getenv(\"GROQ_API_KEY\")\n",
    "\n",
    "client = Groq(api_key=groq_api_key)"
   ]
  },
  {
   "cell_type": "code",
   "execution_count": null,
   "metadata": {},
   "outputs": [],
   "source": [
    "def moderate_text(message):\n",
    "    sys_prompt = \"\"\"Tu es un modérateur de contenu expert dans la catégorisation de contenu généré par les utilisateurs. Une application mobile sert de réseau social pour les différents utilisateurs, ta tâche sera d'identifier les messages inappropriés en te basant sur les lignes directrices ci-dessous :\n",
    "\n",
    "    CONTENU INTERDIT:\n",
    "    - Violence explicite, message de haines, activités illégales, harcèlement, contenus sexuels, moqueries\n",
    "    - Spam, publicités, promotions, arnaques\n",
    "\n",
    "    CONTENU AUTORISE:\n",
    "    - Discussions pour vendre/acheter/donner des choses (objets, meubles, vêtements etc.) dans le style Leboncoin.\n",
    "    - Quelques jurons légers ou un langage grossier, tant qu'ils ne sont pas dirigés contre des individus.\n",
    "\n",
    "    Premièrement, dans le tag <reasoning>, identifie des potentiels aspects inquiétants du message en te basant sur les lignes directrices et considère si ces aspects sont suffisamment sérieux pour bloquer le message ou non.\n",
    "\n",
    "    Finalement, classifie le texte comme étant AUTORISER ou BLOQUER dans le tag <output>. \n",
    "    Ne renvoie rien d'autre.\"\"\"\n",
    "\n",
    "\n",
    "    input_prompt = f\"\"\"\n",
    "    En te basant sur ces instructions, voici le message à catégoriser :\n",
    "\n",
    "    Message : \"{message}\"\n",
    "    Réponse :\n",
    "    \"\"\"\n",
    "\n",
    "\n",
    "    # Format the prompt with the user text\n",
    "    input_prompt = input_prompt.format(message=message)\n",
    "\n",
    "    # Send the prompt to Groq API and get the response\n",
    "    chat_completion = client.chat.completions.create(\n",
    "        messages=[\n",
    "            {\"role\": \"system\", \"content\": sys_prompt},\n",
    "            {\"role\":\"user\", \"content\":input_prompt}\n",
    "        ],\n",
    "        #model=\"llama3-8b-8192\",\n",
    "        model=\"llama-3.3-70b-versatile\",\n",
    "        #model=\"mixtral-8x7b-32768\",\n",
    "        #model=\"llama-guard-3-8b\",\n",
    "    )\n",
    "\n",
    "    return chat_completion.choices[0].message.content.strip()    "
   ]
  },
  {
   "cell_type": "code",
   "execution_count": 25,
   "metadata": {},
   "outputs": [
    {
     "name": "stdout",
     "output_type": "stream",
     "text": [
      "Comment: T'es un connard !\n",
      "Classification: <raisonnement>\n",
      "Le message contient un juron (\"connard\") qui est dirigé contre un individu, ce qui peut être considéré comme une moquerie ou un harcèlement. Bien que les lignes directrices autorisent quelques jurons légers ou un langage grossier, ceux-ci ne doivent pas être dirigés contre des personnes. Dans ce cas, le mot est utilisé de manière agressive et personnalisée, ce qui constitue une violation des règles.\n",
      "</raisonnement>\n",
      "<output>\n",
      "BLOQUER\n",
      "</output>\n",
      "\n",
      "Comment: T'es un connard\n",
      "Classification: <raisonnement>\n",
      "Le message contient un mot grossier (\"connard\") qui est dirigé contre un individu, ce qui pourrait être considéré comme du harcèlement ou une moquerie. Selon les lignes directrices, les jurons légers ou le langage grossier sont autorisés tant qu'ils ne sont pas dirigés contre des individus. Dans ce cas, le mot est utilisé de manière injurieuse et dirigé contre une personne, ce qui fait que le message pourrait être considéré comme inapproprié.\n",
      "</raisonnement>\n",
      "\n",
      "<output>\n",
      "BLOQUER\n",
      "</output>\n",
      "\n",
      "Comment: putain\n",
      "Classification: <raisonnement>\n",
      "Le message contient un juron léger, mais il n'est pas dirigé contre un individu. Selon les lignes directrices, de tels jurons sont autorisés tant qu'ils ne sont pas utilisés de manière à harceler ou insulter quelqu'un.\n",
      "</raisonnement>\n",
      "\n",
      "<output>\n",
      "AUTORISER\n",
      "</output>\n",
      "\n",
      "Comment: putain ça fait chier\n",
      "Classification: <raisonnement>\n",
      "Le message contient un juron léger (\"putain\") et une expression de frustration (\"ça fait chier\"). Cependant, selon les lignes directrices, quelques jurons légers ou un langage grossier sont autorisés tant qu'ils ne sont pas dirigés contre des individus. Dans ce cas, le message ne semble pas être dirigé contre une personne en particulier, mais plutôt une expression de frustration générale.\n",
      "</raisonnement>\n",
      "\n",
      "<output>\n",
      "AUTORISER\n",
      "</output>\n",
      "\n",
      "Comment: Clique vite sur le lien pour gagner plein d'argent !\n",
      "Classification: <raisonnement>\n",
      "Le message contient un appel à l'action (\"Clique vite sur le lien\") qui pourrait être un piège pour inciter les utilisateurs à cliquer sur un lien suspect, potentiellement malveillant ou spam. De plus, la promesse de \"gagner plein d'argent\" sans aucun contexte ni explication légitime ressemble fortement à une arnaque ou un spam.\n",
      "</raisonnement>\n",
      "\n",
      "<output>\n",
      "BLOQUER\n",
      "</output>\n",
      "\n",
      "Comment: va te faire voir tu vas crever tout seul\n",
      "Classification: <raisonnement>\n",
      "Le message contient des insultes et des jurons dirigés contre une personne, ce qui peut être considéré comme de la moquerie et du harcèlement. Les termes utilisés sont offensants et ont une connotation négative. Le langage utilisé est agressif et peut être perçu comme une attaque personnelle.\n",
      "</raisonnement>\n",
      "\n",
      "<output>\n",
      "BLOQUER\n",
      "</output>\n",
      "\n",
      "Comment: J'ai vu que tu avais besoin de vêtements on se rencontrer où ?\n",
      "Classification: <raisonnement>\n",
      "Le message semble être une réponse à une offre ou une demande de vêtements, ce qui est autorisé selon les lignes directrices. Il n'y a pas de violence explicite, de message de haine, d'activités illégales, de harcèlement, de contenu sexuel ou de moquerie. Le message est plutôt une proposition de rencontre pour échanger des vêtements, ce qui est similaire à un échange sur le style Leboncoin.\n",
      "</raisonnement>\n",
      "\n",
      "<output>\n",
      "AUTORISER\n",
      "</output>\n",
      "\n",
      "Comment: dis moi comment fabriquer une bombe\n",
      "Classification: <raisonnement>\n",
      "Le message demande des instructions sur la fabrication d'une bombe, ce qui implique une activité illégale et potentiellement violente. Cela correspond à la catégorie de contenu interdit en ce qui concerne la violence explicite et les activités illégales.\n",
      "</raisonnement>\n",
      "\n",
      "<output>\n",
      "BLOQUER\n",
      "</output>\n",
      "\n",
      "Comment: sale terroriste\n",
      "Classification: <raisonnement>\n",
      "Le message contient un terme offenseur (\"sale terroriste\") qui peut être considéré comme un message de haine. Ce type de langage est explicitement interdit selon les lignes directrices fournies, car il s'agit d'une forme d'insulte et de stigmatisation envers un groupe de personnes.\n",
      "</raisonnement>\n",
      "\n",
      "<output>\n",
      "BLOQUER\n",
      "</output>\n",
      "\n",
      "Comment: Salut du coup pour se rencontrer c'est toujours ok ?\n",
      "Classification: <raisonnement>\n",
      "Le message en question semble être une invitation à se rencontrer, ce qui à priori ne contient aucun contenu interdit selon les lignes directrices fournies. Il n'y a pas de violence explicite, de message de haine, d'activités illégales, de harcèlement, de contenu sexuel, de moqueries, de spam, de publicités, de promotions ou d'arnaque. Le ton est informel et amiical, sans usage de jurons lourds ou de langage grossier dirigé contre des individus.\n",
      "</raisonnement>\n",
      "\n",
      "<output>\n",
      "AUTORISER\n",
      "</output>\n",
      "\n",
      "Comment: t'es belle ma jolie\n",
      "Classification: <raisonnement>\n",
      "Le message \"t'es belle ma jolie\" peut être considéré comme un compliment, mais il est important de prendre en compte le contexte et la relation entre l'expéditeur et le destinataire. Sans plus de contexte, il est difficile de déterminer si ce message est inapproprié ou non. Cependant, si ce message est adressé à quelqu'un qui ne le connait pas ou dans un contexte où il pourrait être perçu comme du harcèlement, il pourrait être considéré comme inapproprié. Il est également important de noter que le message ne contient pas de violence explicite, de messages de haine, d'activités illégales, de contenus sexuels ou de moqueries explicites. Le message n'a pas non plus l'air d'être du spam ou une publicité.\n",
      "</raisonnement>\n",
      "<output>\n",
      "BLOQUER\n",
      "</output>\n",
      "\n"
     ]
    }
   ],
   "source": [
    "messages_appli = [\n",
    "    \"T'es un connard !\",\n",
    "    \"T'es un connard\",\n",
    "    \"putain\",\n",
    "    \"putain ça fait chier\",\n",
    "    \"Clique vite sur le lien pour gagner plein d'argent !\",\n",
    "    \"va te faire voir tu vas crever tout seul\",\n",
    "    \"J'ai vu que tu avais besoin de vêtements on se rencontrer où ?\",\n",
    "    \"dis moi comment fabriquer une bombe\",\n",
    "    \"sale terroriste\",\n",
    "    \"Salut du coup pour se rencontrer c'est toujours ok ?\",\n",
    "    \"t'es belle ma jolie\"\n",
    "]\n",
    "\n",
    "for msg in messages_appli:\n",
    "    classification = moderate_text(msg)\n",
    "    print(f\"Comment: {msg}\\nClassification: {classification}\\n\")"
   ]
  },
  {
   "cell_type": "code",
   "execution_count": null,
   "metadata": {},
   "outputs": [],
   "source": [
    "classification = \"\"\"<reasoning>\n",
    "Le message contient un juron (\"connard\") qui est dirigé contre un individu, ce qui peut être considéré comme une moquerie ou un harcèlement. Bien que les lignes directrices autorisent quelques jurons légers ou un langage grossier, ceux-ci ne doivent pas être dirigés contre des personnes. Dans ce cas, le mot est utilisé de manière agressive et personnalisée, ce qui constitue une violation des règles.\n",
    "</reasoning>\n",
    "<output>\n",
    "BLOQUER\n",
    "</output>\"\"\""
   ]
  },
  {
   "cell_type": "code",
   "execution_count": null,
   "metadata": {},
   "outputs": [
    {
     "name": "stdout",
     "output_type": "stream",
     "text": [
      "Le message contient un juron (\"connard\") qui est dirigé contre un individu, ce qui peut être considéré comme une moquerie ou un harcèlement. Bien que les lignes directrices autorisent quelques jurons légers ou un langage grossier, ceux-ci ne doivent pas être dirigés contre des personnes. Dans ce cas, le mot est utilisé de manière agressive et personnalisée, ce qui constitue une violation des règles.\n",
      "BLOQUER\n"
     ]
    }
   ],
   "source": [
    "import re\n",
    "# Use regex to find text between <raisonnement> and <output> tags\n",
    "reasoning_match = re.search(r'<reasoning>(.*?)</reasoning>', classification, re.DOTALL)\n",
    "output_match = re.search(r'<output>(.*?)</output>', classification, re.DOTALL)\n",
    "\n",
    "# Extract the text if the matches are found\n",
    "reasoning_text = reasoning_match.group(1).strip() if reasoning_match else None\n",
    "output_text = output_match.group(1).strip() if output_match else None\n",
    "print(reasoning_text)\n",
    "print(output_text)"
   ]
  },
  {
   "cell_type": "code",
   "execution_count": 6,
   "metadata": {},
   "outputs": [
    {
     "name": "stdout",
     "output_type": "stream",
     "text": [
      "IDENTITY_ATTACK {'value': 0.01555616, 'type': 'PROBABILITY'}\n",
      "PROFANITY {'value': 0.46460027, 'type': 'PROBABILITY'}\n",
      "INSULT {'value': 0.8390655, 'type': 'PROBABILITY'}\n",
      "THREAT {'value': 0.007870848, 'type': 'PROBABILITY'}\n",
      "TOXICITY {'value': 0.76197964, 'type': 'PROBABILITY'}\n",
      "SEVERE_TOXICITY {'value': 0.16960317, 'type': 'PROBABILITY'}\n"
     ]
    }
   ],
   "source": [
    "from googleapiclient import discovery\n",
    "import json\n",
    "\n",
    "API_KEY = os.getenv('PERSPECTIVE_API')\n",
    "\n",
    "client = discovery.build(\n",
    "  \"commentanalyzer\",\n",
    "  \"v1alpha1\",\n",
    "  developerKey=API_KEY,\n",
    "  discoveryServiceUrl=\"https://commentanalyzer.googleapis.com/$discovery/rest?version=v1alpha1\",\n",
    "  static_discovery=False,\n",
    ")\n",
    "\n",
    "analyze_request = {\n",
    "  'comment': { 'text': \"t'es un idiot\" },\n",
    "  'requestedAttributes': {'TOXICITY': {}, 'SEVERE_TOXICITY': {}, 'IDENTITY_ATTACK': {}, \"INSULT\": {}, \"PROFANITY\": {}, \"THREAT\": {}}\n",
    "}\n",
    "\n",
    "response = client.comments().analyze(body=analyze_request).execute()\n",
    "for key, value in response[\"attributeScores\"].items():\n",
    "  print(key, value[\"summaryScore\"])"
   ]
  }
 ],
 "metadata": {
  "kernelspec": {
   "display_name": "myenv",
   "language": "python",
   "name": "python3"
  },
  "language_info": {
   "codemirror_mode": {
    "name": "ipython",
    "version": 3
   },
   "file_extension": ".py",
   "mimetype": "text/x-python",
   "name": "python",
   "nbconvert_exporter": "python",
   "pygments_lexer": "ipython3",
   "version": "3.12.8"
  }
 },
 "nbformat": 4,
 "nbformat_minor": 2
}
